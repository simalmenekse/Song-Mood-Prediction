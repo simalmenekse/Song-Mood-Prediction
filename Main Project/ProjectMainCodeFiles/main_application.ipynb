{
 "cells": [
  {
   "cell_type": "code",
   "execution_count": 1,
   "metadata": {},
   "outputs": [],
   "source": [
    "# import general packages\n",
    "import os\n",
    "import copy\n",
    "import time\n",
    "import ntpath\n",
    "import pickle\n",
    "import warnings\n",
    "import numpy as np\n",
    "import pandas as pd\n",
    "\n",
    "# import tkinter packages\n",
    "import tkinter\n",
    "from tkinter import filedialog\n",
    "from tkinter import messagebox\n",
    "from tkinter.ttk import Progressbar\n",
    "from tkinter.ttk import Button\n",
    "\n",
    "# import music analysis packages\n",
    "import librosa\n",
    "import pyAudioAnalysis as pyaudio\n",
    "from pyAudioAnalysis import audioBasicIO\n",
    "from pyAudioAnalysis import MidTermFeatures"
   ]
  },
  {
   "cell_type": "code",
   "execution_count": 2,
   "metadata": {},
   "outputs": [],
   "source": [
    "# toggle warnings\n",
    "warnings.filterwarnings('ignore')\n",
    "# warnings.filterwarnings('default')"
   ]
  },
  {
   "cell_type": "code",
   "execution_count": null,
   "metadata": {},
   "outputs": [],
   "source": [
    "# select the directory of the mp3 files using tkinter\n",
    "tkobj = tkinter.Tk()\n",
    "tkobj.withdraw()\n",
    "tkobj.directory = filedialog.askdirectory(title = \"Select your folder containing the MP3 files.\")\n",
    "path = tkobj.directory"
   ]
  },
  {
   "cell_type": "code",
   "execution_count": null,
   "metadata": {},
   "outputs": [],
   "source": [
    "start = time.time()"
   ]
  },
  {
   "cell_type": "code",
   "execution_count": null,
   "metadata": {},
   "outputs": [],
   "source": [
    "# code for progress button\n",
    "progress = Progressbar(tkobj, length = 100, mode = 'determinate')\n",
    "progress.pack()\n",
    "Button(tkobj, text = 'Generate Playlists').pack()\n",
    "tkobj.mainloop()\n",
    "tkobj.update()"
   ]
  }
 ],
 "metadata": {
  "kernelspec": {
   "display_name": "base",
   "language": "python",
   "name": "python3"
  },
  "language_info": {
   "codemirror_mode": {
    "name": "ipython",
    "version": 3
   },
   "file_extension": ".py",
   "mimetype": "text/x-python",
   "name": "python",
   "nbconvert_exporter": "python",
   "pygments_lexer": "ipython3",
   "version": "3.9.18"
  }
 },
 "nbformat": 4,
 "nbformat_minor": 2
}
