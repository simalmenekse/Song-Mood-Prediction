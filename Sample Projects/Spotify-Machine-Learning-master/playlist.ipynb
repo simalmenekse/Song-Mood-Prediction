{
 "cells": [
  {
   "cell_type": "code",
   "execution_count": 10,
   "metadata": {},
   "outputs": [],
   "source": [
    "from  helpers import *\n",
    "import spotipy\n",
    "from spotipy import SpotifyClientCredentials, util\n",
    "import pandas as pd"
   ]
  },
  {
   "cell_type": "code",
   "execution_count": 25,
   "metadata": {
    "tags": []
   },
   "outputs": [],
   "source": [
    "client_id='bc3b4e76fe1f49cab56f0a21b81f74ec'\n",
    "client_secret='5ded844b91cb4a04901447198d8af794'\n",
    "redirect_uri='https://example.org/callback'\n",
    "\n",
    "username = 'aysesimalmenekse'\n",
    "scope_playlist = 'playlist-modify-public'\n",
    "scope_user = 'user-library-modify'\n",
    "scope_playing = 'user-read-currently-playing'\n",
    "\n",
    "#Credentials to access the Spotify Music Data\n",
    "manager = SpotifyClientCredentials(client_id,client_secret)\n",
    "sp = spotipy.Spotify(client_credentials_manager=manager)\n",
    "\n",
    "#Credentials to access the actual song played\n",
    "token_actual = util.prompt_for_user_token(username,scope_playing,client_id,client_secret,redirect_uri) \n",
    "sp_actual = spotipy.Spotify(auth=token_actual)\n",
    "\n",
    "#Credentiasl to acces the library music \n",
    "token_user= util.prompt_for_user_token(username,scope_user,client_id,client_secret,redirect_uri) \n",
    "sp_user = spotipy.Spotify(auth=token_user)\n",
    "\n",
    "#Credentiasl to acces the Playlists Music\n",
    "token_playlist= util.prompt_for_user_token(username,scope_playlist,client_id,client_secret,redirect_uri) \n",
    "sp_playlist = spotipy.Spotify(auth=token_playlist)\n"
   ]
  },
  {
   "cell_type": "code",
   "execution_count": 26,
   "metadata": {},
   "outputs": [],
   "source": [
    "cluster_0 = pd.read_csv(\"data/cluster0.csv\")\n",
    "cluster_1 = pd.read_csv(\"data/cluster1.csv\")\n",
    "ids_0 = cluster_0['id'].tolist()\n",
    "ids_1 = cluster_1['id'].tolist()"
   ]
  },
  {
   "cell_type": "code",
   "execution_count": 40,
   "metadata": {},
   "outputs": [],
   "source": [
    "ids_3 = ['74hnCqoBekV3fj5ACDKNIP',\n",
    " '4Na0siMtWOW9pJoWJ1Ponv',\n",
    " '0s0lnAIcclHVjQ4fITlOoU',\n",
    " '045sp2JToyTaaKyXkGejPy']"
   ]
  },
  {
   "cell_type": "code",
   "execution_count": 28,
   "metadata": {
    "tags": []
   },
   "outputs": [],
   "source": [
    "radiohead_energy = sp_playlist.user_playlist_create(username,\"Radiohead :)\")\n",
    "radiohead_relaxed = sp_playlist.user_playlist_create(username,\"Radiohead :(\")\n"
   ]
  },
  {
   "cell_type": "code",
   "execution_count": 41,
   "metadata": {},
   "outputs": [
    {
     "data": {
      "text/plain": [
       "{'snapshot_id': 'MixkYWNjODU2ZjMzMDdlNGI5MWVhMzdmMGU5MjQzZjEyN2IzMWY1ZmI5'}"
      ]
     },
     "execution_count": 41,
     "metadata": {},
     "output_type": "execute_result"
    }
   ],
   "source": [
    "sp_playlist.user_playlist_add_tracks(username,'2RdEOvpEbP1uYRf9XQRho9',ids_3)"
   ]
  }
 ],
 "metadata": {
  "kernelspec": {
   "display_name": "base",
   "language": "python",
   "name": "python3"
  },
  "language_info": {
   "codemirror_mode": {
    "name": "ipython",
    "version": 3
   },
   "file_extension": ".py",
   "mimetype": "text/x-python",
   "name": "python",
   "nbconvert_exporter": "python",
   "pygments_lexer": "ipython3",
   "version": "3.9.13"
  },
  "orig_nbformat": 2
 },
 "nbformat": 4,
 "nbformat_minor": 2
}
