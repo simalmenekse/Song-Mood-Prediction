{
 "cells": [
  {
   "cell_type": "code",
   "execution_count": 1,
   "id": "engaging-framework",
   "metadata": {},
   "outputs": [],
   "source": [
    "# import general packages\n",
    "import warnings\n",
    "import pickle\n",
    "import pandas as pd\n",
    "import numpy as np\n",
    "\n",
    "# import sklearn functionalities\n",
    "import sklearn\n",
    "from sklearn import pipeline\n",
    "from sklearn import model_selection\n",
    "from sklearn import svm\n",
    "from sklearn import metrics\n",
    "from sklearn import preprocessing\n",
    "from sklearn import linear_model\n",
    "from sklearn import neighbors\n",
    "from sklearn import naive_bayes\n",
    "from sklearn import ensemble\n",
    "from sklearn import neural_network\n",
    "from sklearn import decomposition"
   ]
  },
  {
   "cell_type": "code",
   "execution_count": 2,
   "id": "baking-protection",
   "metadata": {},
   "outputs": [],
   "source": [
    "# toggle warnings\n",
    "warnings.filterwarnings('ignore')\n",
    "# warnings.filterwarnings('default')"
   ]
  },
  {
   "cell_type": "code",
   "execution_count": 5,
   "id": "laughing-tension",
   "metadata": {},
   "outputs": [],
   "source": [
    "# load features\n",
    "basic_features = pd.read_csv(\"C:\\\\University\\\\Applied Machine Learning\\\\Project AML\\\\AppliedMachineLearning\\\\RAW Project\\\\data\\\\features.csv\")\n",
    "eng_features = pd.read_csv(\"C:\\\\University\\\\Applied Machine Learning\\\\Project AML\\\\AppliedMachineLearning\\\\RAW Project\\\\data\\\\engineered_features.csv\")\n",
    "nn_features = pd.read_csv(\"C:\\\\University\\\\Applied Machine Learning\\\\Project AML\\\\AppliedMachineLearning\\\\RAW Project\\\\data\\\\nn_features.csv\")"
   ]
  },
  {
   "cell_type": "code",
   "execution_count": 6,
   "id": "virgin-monday",
   "metadata": {},
   "outputs": [
    {
     "name": "stdout",
     "output_type": "stream",
     "text": [
      "Neural network features match.\n"
     ]
    }
   ],
   "source": [
    "# add mood to the neural network dataframe\n",
    "combined_nn = pd.concat([basic_features, nn_features], axis = 1)\n",
    "combined_nn['song_check'] = combined_nn['title'] + ' - ' + combined_nn['artist']\n",
    "\n",
    "# print a message to check if merge was successful\n",
    "if combined_nn['song'].equals(combined_nn['song_check']):\n",
    "    print (\"Neural network features match.\")\n",
    "    combined_nn = combined_nn.drop(columns = ['song', 'song_check'])\n",
    "else:\n",
    "    print (\"Neural network features DO NOT match.\")"
   ]
  },
  {
   "cell_type": "code",
   "execution_count": 7,
   "id": "august-victorian",
   "metadata": {},
   "outputs": [],
   "source": [
    "# function to separate features and labels\n",
    "def build_xy(features, feature_type):\n",
    "    if feature_type == \"basic\":\n",
    "        # basic features only include the five listed\n",
    "        x = features[['tempo', 'chroma_number', 'zero_crossing_rate', 'energy_entropy', 'spectral_centroid']]\n",
    "    elif feature_type == \"eng\":\n",
    "        # 2 to skip the title and artist, -2 to skip last two mood columns\n",
    "        x = features.iloc[:, 2:(features.shape[1] - 2)]\n",
    "    elif feature_type == \"neural_net\":\n",
    "        # 9 is the index of zcr_mean, the first neural network feature\n",
    "        x = features.iloc[:, 9:]\n",
    "    else:\n",
    "        print (\"Invalid feature type.\")\n",
    "        return (None, None)\n",
    "    \n",
    "    y = features[['primary', 'secondary']]\n",
    "    # generate a combined label containing both primary and secondary moods\n",
    "    y['combined'] = y['primary'].astype(str) + y['secondary'].astype(str)\n",
    "    return (x, y)"
   ]
  },
  {
   "cell_type": "code",
   "execution_count": 8,
   "id": "funky-helen",
   "metadata": {},
   "outputs": [],
   "source": [
    "# function to generate scoring based on primary and secondary moods\n",
    "def evaluate_mood(y_true, y_predict):\n",
    "    true_list = y_true.tolist()\n",
    "    score_values = []\n",
    "    for index, value in enumerate(y_predict):\n",
    "        true_moods = true_list[index]\n",
    "        if str(value) == true_moods[0]:\n",
    "            # give full credit for getting the primary mood\n",
    "            score_values.append(1)\n",
    "        elif str(value) in list(true_moods):\n",
    "            # give partial credit for getting the secondary mood instead\n",
    "            score_values.append(0.5)\n",
    "        else:\n",
    "            score_values.append(0)\n",
    "    return pd.Series(score_values)"
   ]
  },
  {
   "cell_type": "code",
   "execution_count": 9,
   "id": "aerial-romance",
   "metadata": {},
   "outputs": [
    {
     "name": "stdout",
     "output_type": "stream",
     "text": [
      "Average accuracy: 0.39\n"
     ]
    }
   ],
   "source": [
    "# Support Vector Machine with basic features\n",
    "x, y = build_xy(basic_features, \"basic\")\n",
    "svm_model = svm.SVC()\n",
    "scaler = preprocessing.MinMaxScaler()\n",
    "pipe = pipeline.Pipeline(steps = [('scaler', scaler), ('svc', svm_model)])\n",
    "param_grid = {\n",
    "    'svc__kernel': ['linear', 'poly', 'rbf', 'sigmoid'],\n",
    "    'svc__decision_function_shape': ['ovr', 'ovo'],\n",
    "    'svc__C': [0.25, 0.5, 0.75, 1, 3, 5, 10, 25, 50],\n",
    "    'svc__gamma': [0.0001, 0.001, 0.01, 0.1, 1, 5, 10],\n",
    "}\n",
    "model = model_selection.GridSearchCV(pipe, param_grid, cv = 5)\n",
    "accuracies = model_selection.cross_val_score(model, x, y['primary'], cv = 5)\n",
    "print(\"Average accuracy:\", np.mean(accuracies))"
   ]
  },
  {
   "cell_type": "code",
   "execution_count": null,
   "id": "derived-liberia",
   "metadata": {},
   "outputs": [],
   "source": [
    "# Support Vector Machine with engineered features\n",
    "x, y = build_xy(eng_features, \"eng\")\n",
    "svm_model = svm.SVC()\n",
    "scaler = preprocessing.MinMaxScaler()\n",
    "pipe = pipeline.Pipeline(steps = [('scaler', scaler), ('svc', svm_model)])\n",
    "param_grid = {\n",
    "    'svc__kernel': ['linear', 'poly', 'rbf', 'sigmoid'],\n",
    "    'svc__decision_function_shape': ['ovr', 'ovo'],\n",
    "    'svc__C': [0.25, 0.5, 0.75, 1, 3, 5, 10, 25, 50],\n",
    "    'svc__gamma': [0.0001, 0.001, 0.01, 0.1, 1, 5, 10],\n",
    "}\n",
    "model = model_selection.GridSearchCV(pipe, param_grid, cv = 5)\n",
    "accuracies = model_selection.cross_val_score(model, x, y['primary'], cv = 5)\n",
    "print(\"Average accuracy:\", np.mean(accuracies))"
   ]
  },
  {
   "cell_type": "code",
   "execution_count": null,
   "id": "mediterranean-screening",
   "metadata": {},
   "outputs": [],
   "source": [
    "# Support Vector Machine with PCA transformed engineered features\n",
    "x, y = build_xy(eng_features, \"eng\")\n",
    "svm_model = svm.SVC()\n",
    "scaler = preprocessing.MinMaxScaler()\n",
    "pca = decomposition.PCA(n_components = 0.95, svd_solver = \"full\")\n",
    "pipe = pipeline.Pipeline(steps = [('scaler', scaler), ('pca', pca), ('svc', svm_model)])\n",
    "param_grid = {\n",
    "    'svc__kernel': ['linear', 'poly', 'rbf', 'sigmoid'],\n",
    "    'svc__decision_function_shape': ['ovr', 'ovo'],\n",
    "    'svc__C': [0.25, 0.5, 0.75, 1, 3, 5, 10, 25, 50],\n",
    "    'svc__gamma': [0.0001, 0.001, 0.01, 0.1, 1, 5, 10],\n",
    "}\n",
    "model = model_selection.GridSearchCV(pipe, param_grid, cv = 5)\n",
    "accuracies = model_selection.cross_val_score(model, x, y['primary'], cv = 5)\n",
    "print(\"Average accuracy:\", np.mean(accuracies))"
   ]
  },
  {
   "cell_type": "code",
   "execution_count": null,
   "id": "rental-bachelor",
   "metadata": {},
   "outputs": [],
   "source": [
    "# final basic SVM model\n",
    "x, y = build_xy(basic_features, \"basic\")\n",
    "svm_model = svm.SVC()\n",
    "scaler = preprocessing.MinMaxScaler()\n",
    "pipe = pipeline.Pipeline(steps = [('scaler', scaler), ('svc', svm_model)])\n",
    "param_grid = {\n",
    "    'svc__kernel': ['linear', 'poly', 'rbf', 'sigmoid'],\n",
    "    'svc__decision_function_shape': ['ovr', 'ovo'],\n",
    "    'svc__C': [0.25, 0.5, 0.75, 1, 3, 5, 10, 25, 50],\n",
    "    'svc__gamma': [0.0001, 0.001, 0.01, 0.1, 1, 5, 10],\n",
    "}\n",
    "model = model_selection.GridSearchCV(pipe, param_grid, cv = 5)\n",
    "model.fit(x, y['primary'])\n",
    "print (\"***SVM Best Parameters***\")\n",
    "print (model.best_params_)"
   ]
  },
  {
   "cell_type": "code",
   "execution_count": null,
   "id": "protecting-plaintiff",
   "metadata": {},
   "outputs": [],
   "source": [
    "# final engineered SVM model\n",
    "x, y = build_xy(eng_features, \"eng\")\n",
    "svm_model = svm.SVC()\n",
    "scaler = preprocessing.MinMaxScaler()\n",
    "pipe = pipeline.Pipeline(steps = [('scaler', scaler), ('svc', svm_model)])\n",
    "param_grid = {\n",
    "    'svc__kernel': ['linear', 'poly', 'rbf', 'sigmoid'],\n",
    "    'svc__decision_function_shape': ['ovr', 'ovo'],\n",
    "    'svc__C': [0.25, 0.5, 0.75, 1, 3, 5, 10, 25, 50],\n",
    "    'svc__gamma': [0.0001, 0.001, 0.01, 0.1, 1, 5, 10],\n",
    "}\n",
    "model = model_selection.GridSearchCV(pipe, param_grid, cv = 5)\n",
    "model.fit(x, y['primary'])\n",
    "print (\"***SVM Best Parameters***\")\n",
    "print (model.best_params_)"
   ]
  },
  {
   "cell_type": "code",
   "execution_count": null,
   "id": "banner-daniel",
   "metadata": {},
   "outputs": [],
   "source": [
    "# final transformed and engineered SVM model\n",
    "x, y = build_xy(eng_features, \"eng\")\n",
    "svm_model = svm.SVC()\n",
    "scaler = preprocessing.MinMaxScaler()\n",
    "pca = decomposition.PCA(n_components = 0.95, svd_solver = \"full\")\n",
    "pipe = pipeline.Pipeline(steps = [('scaler', scaler), ('pca', pca), ('svc', svm_model)])\n",
    "param_grid = {\n",
    "    'svc__kernel': ['linear', 'poly', 'rbf', 'sigmoid'],\n",
    "    'svc__decision_function_shape': ['ovr', 'ovo'],\n",
    "    'svc__C': [0.25, 0.5, 0.75, 1, 3, 5, 10, 25, 50],\n",
    "    'svc__gamma': [0.0001, 0.001, 0.01, 0.1, 1, 5, 10],\n",
    "}\n",
    "model = model_selection.GridSearchCV(pipe, param_grid, cv = 5)\n",
    "model.fit(x, y['primary'])\n",
    "print (\"***SVM Best Parameters***\")\n",
    "print (model.best_params_)"
   ]
  },
  {
   "cell_type": "code",
   "execution_count": 10,
   "id": "norman-apollo",
   "metadata": {},
   "outputs": [
    {
     "name": "stdout",
     "output_type": "stream",
     "text": [
      "Average accuracy: nan\n"
     ]
    }
   ],
   "source": [
    "# Logistic Regression with basic features\n",
    "x, y = build_xy(basic_features, \"basic\")\n",
    "lr_model = linear_model.LogisticRegression()\n",
    "scaler = preprocessing.MinMaxScaler()\n",
    "pipe = pipeline.Pipeline(steps = [('scaler', scaler), ('log_reg', lr_model)])\n",
    "param_grid = {\n",
    "    'log_reg__penalty': ['l1', 'l2', 'elasticnet', 'none'],\n",
    "    'log_reg__solver': ['newton-cg', 'lbfgs', 'liblinear', 'sag', 'saga'],\n",
    "    'log_reg__C': [0.25, 0.5, 0.75, 1, 3, 5, 10, 25, 50]\n",
    "}\n",
    "model = model_selection.GridSearchCV(pipe, param_grid, cv = 5)\n",
    "accuracies = model_selection.cross_val_score(model, x, y['primary'], cv = 5)\n",
    "print(\"Average accuracy:\", np.mean(accuracies))"
   ]
  },
  {
   "cell_type": "code",
   "execution_count": null,
   "id": "bigger-brook",
   "metadata": {},
   "outputs": [],
   "source": [
    "# Logistic Regression with engineered features\n",
    "x, y = build_xy(eng_features, \"eng\")\n",
    "lr_model = linear_model.LogisticRegression()\n",
    "scaler = preprocessing.MinMaxScaler()\n",
    "pipe = pipeline.Pipeline(steps = [('scaler', scaler), ('log_reg', lr_model)])\n",
    "param_grid = {\n",
    "    'log_reg__penalty': ['l1', 'l2', 'elasticnet', 'none'],\n",
    "    'log_reg__solver': ['newton-cg', 'lbfgs', 'liblinear', 'sag', 'saga'],\n",
    "    'log_reg__C': [0.25, 0.5, 0.75, 1, 3, 5, 10, 25, 50]\n",
    "}\n",
    "model = model_selection.GridSearchCV(pipe, param_grid, cv = 5)\n",
    "accuracies = model_selection.cross_val_score(model, x, y['primary'], cv = 5)\n",
    "print(\"Average accuracy:\", np.mean(accuracies))"
   ]
  },
  {
   "cell_type": "code",
   "execution_count": null,
   "id": "billion-teaching",
   "metadata": {},
   "outputs": [],
   "source": [
    "# Logistic Regression with PCA transformed engineered features\n",
    "x, y = build_xy(eng_features, \"eng\")\n",
    "lr_model = linear_model.LogisticRegression()\n",
    "scaler = preprocessing.MinMaxScaler()\n",
    "pca = decomposition.PCA(n_components = 0.95, svd_solver = \"full\")\n",
    "pipe = pipeline.Pipeline(steps = [('scaler', scaler), ('pca', pca), ('log_reg', lr_model)])\n",
    "param_grid = {\n",
    "    'log_reg__penalty': ['l1', 'l2', 'elasticnet', 'none'],\n",
    "    'log_reg__solver': ['newton-cg', 'lbfgs', 'liblinear', 'sag', 'saga'],\n",
    "    'log_reg__C': [0.25, 0.5, 0.75, 1, 3, 5, 10, 25, 50]\n",
    "}\n",
    "model = model_selection.GridSearchCV(pipe, param_grid, cv = 5)\n",
    "accuracies = model_selection.cross_val_score(model, x, y['primary'], cv = 5)\n",
    "print(\"Average accuracy:\", np.mean(accuracies))"
   ]
  },
  {
   "cell_type": "code",
   "execution_count": 11,
   "id": "congressional-complexity",
   "metadata": {},
   "outputs": [
    {
     "ename": "ValueError",
     "evalue": "Solver newton-cg supports only 'l2' or 'none' penalties, got l1 penalty.",
     "output_type": "error",
     "traceback": [
      "\u001b[1;31m---------------------------------------------------------------------------\u001b[0m",
      "\u001b[1;31mValueError\u001b[0m                                Traceback (most recent call last)",
      "\u001b[1;32mc:\\University\\Applied Machine Learning\\Project AML\\AppliedMachineLearning\\RAW Project\\models\\training_models.ipynb Cell 16\u001b[0m line \u001b[0;36m1\n\u001b[0;32m      <a href='vscode-notebook-cell:/c%3A/University/Applied%20Machine%20Learning/Project%20AML/AppliedMachineLearning/RAW%20Project/models/training_models.ipynb#X21sZmlsZQ%3D%3D?line=5'>6</a>\u001b[0m param_grid \u001b[39m=\u001b[39m {\n\u001b[0;32m      <a href='vscode-notebook-cell:/c%3A/University/Applied%20Machine%20Learning/Project%20AML/AppliedMachineLearning/RAW%20Project/models/training_models.ipynb#X21sZmlsZQ%3D%3D?line=6'>7</a>\u001b[0m     \u001b[39m'\u001b[39m\u001b[39mlog_reg__penalty\u001b[39m\u001b[39m'\u001b[39m: [\u001b[39m'\u001b[39m\u001b[39ml1\u001b[39m\u001b[39m'\u001b[39m, \u001b[39m'\u001b[39m\u001b[39ml2\u001b[39m\u001b[39m'\u001b[39m, \u001b[39m'\u001b[39m\u001b[39melasticnet\u001b[39m\u001b[39m'\u001b[39m, \u001b[39m'\u001b[39m\u001b[39mnone\u001b[39m\u001b[39m'\u001b[39m],\n\u001b[0;32m      <a href='vscode-notebook-cell:/c%3A/University/Applied%20Machine%20Learning/Project%20AML/AppliedMachineLearning/RAW%20Project/models/training_models.ipynb#X21sZmlsZQ%3D%3D?line=7'>8</a>\u001b[0m     \u001b[39m'\u001b[39m\u001b[39mlog_reg__solver\u001b[39m\u001b[39m'\u001b[39m: [\u001b[39m'\u001b[39m\u001b[39mnewton-cg\u001b[39m\u001b[39m'\u001b[39m, \u001b[39m'\u001b[39m\u001b[39mlbfgs\u001b[39m\u001b[39m'\u001b[39m, \u001b[39m'\u001b[39m\u001b[39mliblinear\u001b[39m\u001b[39m'\u001b[39m, \u001b[39m'\u001b[39m\u001b[39msag\u001b[39m\u001b[39m'\u001b[39m, \u001b[39m'\u001b[39m\u001b[39msaga\u001b[39m\u001b[39m'\u001b[39m],\n\u001b[0;32m      <a href='vscode-notebook-cell:/c%3A/University/Applied%20Machine%20Learning/Project%20AML/AppliedMachineLearning/RAW%20Project/models/training_models.ipynb#X21sZmlsZQ%3D%3D?line=8'>9</a>\u001b[0m     \u001b[39m'\u001b[39m\u001b[39mlog_reg__C\u001b[39m\u001b[39m'\u001b[39m: [\u001b[39m0.25\u001b[39m, \u001b[39m0.5\u001b[39m, \u001b[39m0.75\u001b[39m, \u001b[39m1\u001b[39m, \u001b[39m3\u001b[39m, \u001b[39m5\u001b[39m, \u001b[39m10\u001b[39m, \u001b[39m25\u001b[39m, \u001b[39m50\u001b[39m]\n\u001b[0;32m     <a href='vscode-notebook-cell:/c%3A/University/Applied%20Machine%20Learning/Project%20AML/AppliedMachineLearning/RAW%20Project/models/training_models.ipynb#X21sZmlsZQ%3D%3D?line=9'>10</a>\u001b[0m }\n\u001b[0;32m     <a href='vscode-notebook-cell:/c%3A/University/Applied%20Machine%20Learning/Project%20AML/AppliedMachineLearning/RAW%20Project/models/training_models.ipynb#X21sZmlsZQ%3D%3D?line=10'>11</a>\u001b[0m model \u001b[39m=\u001b[39m model_selection\u001b[39m.\u001b[39mGridSearchCV(pipe, param_grid, cv \u001b[39m=\u001b[39m \u001b[39m5\u001b[39m)\n\u001b[1;32m---> <a href='vscode-notebook-cell:/c%3A/University/Applied%20Machine%20Learning/Project%20AML/AppliedMachineLearning/RAW%20Project/models/training_models.ipynb#X21sZmlsZQ%3D%3D?line=11'>12</a>\u001b[0m model\u001b[39m.\u001b[39;49mfit(x, y[\u001b[39m'\u001b[39;49m\u001b[39mprimary\u001b[39;49m\u001b[39m'\u001b[39;49m])\n\u001b[0;32m     <a href='vscode-notebook-cell:/c%3A/University/Applied%20Machine%20Learning/Project%20AML/AppliedMachineLearning/RAW%20Project/models/training_models.ipynb#X21sZmlsZQ%3D%3D?line=12'>13</a>\u001b[0m \u001b[39mprint\u001b[39m (\u001b[39m\"\u001b[39m\u001b[39m***LR Best Parameters***\u001b[39m\u001b[39m\"\u001b[39m)\n\u001b[0;32m     <a href='vscode-notebook-cell:/c%3A/University/Applied%20Machine%20Learning/Project%20AML/AppliedMachineLearning/RAW%20Project/models/training_models.ipynb#X21sZmlsZQ%3D%3D?line=13'>14</a>\u001b[0m \u001b[39mprint\u001b[39m (model\u001b[39m.\u001b[39mbest_params_)\n",
      "File \u001b[1;32mc:\\Users\\HP\\anaconda3\\lib\\site-packages\\sklearn\\utils\\validation.py:72\u001b[0m, in \u001b[0;36m_deprecate_positional_args.<locals>.inner_f\u001b[1;34m(*args, **kwargs)\u001b[0m\n\u001b[0;32m     67\u001b[0m     warnings\u001b[39m.\u001b[39mwarn(\u001b[39m\"\u001b[39m\u001b[39mPass \u001b[39m\u001b[39m{}\u001b[39;00m\u001b[39m as keyword args. From version 0.25 \u001b[39m\u001b[39m\"\u001b[39m\n\u001b[0;32m     68\u001b[0m                   \u001b[39m\"\u001b[39m\u001b[39mpassing these as positional arguments will \u001b[39m\u001b[39m\"\u001b[39m\n\u001b[0;32m     69\u001b[0m                   \u001b[39m\"\u001b[39m\u001b[39mresult in an error\u001b[39m\u001b[39m\"\u001b[39m\u001b[39m.\u001b[39mformat(\u001b[39m\"\u001b[39m\u001b[39m, \u001b[39m\u001b[39m\"\u001b[39m\u001b[39m.\u001b[39mjoin(args_msg)),\n\u001b[0;32m     70\u001b[0m                   \u001b[39mFutureWarning\u001b[39;00m)\n\u001b[0;32m     71\u001b[0m kwargs\u001b[39m.\u001b[39mupdate({k: arg \u001b[39mfor\u001b[39;00m k, arg \u001b[39min\u001b[39;00m \u001b[39mzip\u001b[39m(sig\u001b[39m.\u001b[39mparameters, args)})\n\u001b[1;32m---> 72\u001b[0m \u001b[39mreturn\u001b[39;00m f(\u001b[39m*\u001b[39m\u001b[39m*\u001b[39mkwargs)\n",
      "File \u001b[1;32mc:\\Users\\HP\\anaconda3\\lib\\site-packages\\sklearn\\model_selection\\_search.py:765\u001b[0m, in \u001b[0;36mBaseSearchCV.fit\u001b[1;34m(self, X, y, groups, **fit_params)\u001b[0m\n\u001b[0;32m    763\u001b[0m refit_start_time \u001b[39m=\u001b[39m time\u001b[39m.\u001b[39mtime()\n\u001b[0;32m    764\u001b[0m \u001b[39mif\u001b[39;00m y \u001b[39mis\u001b[39;00m \u001b[39mnot\u001b[39;00m \u001b[39mNone\u001b[39;00m:\n\u001b[1;32m--> 765\u001b[0m     \u001b[39mself\u001b[39m\u001b[39m.\u001b[39mbest_estimator_\u001b[39m.\u001b[39mfit(X, y, \u001b[39m*\u001b[39m\u001b[39m*\u001b[39mfit_params)\n\u001b[0;32m    766\u001b[0m \u001b[39melse\u001b[39;00m:\n\u001b[0;32m    767\u001b[0m     \u001b[39mself\u001b[39m\u001b[39m.\u001b[39mbest_estimator_\u001b[39m.\u001b[39mfit(X, \u001b[39m*\u001b[39m\u001b[39m*\u001b[39mfit_params)\n",
      "File \u001b[1;32mc:\\Users\\HP\\anaconda3\\lib\\site-packages\\sklearn\\pipeline.py:335\u001b[0m, in \u001b[0;36mPipeline.fit\u001b[1;34m(self, X, y, **fit_params)\u001b[0m\n\u001b[0;32m    333\u001b[0m     \u001b[39mif\u001b[39;00m \u001b[39mself\u001b[39m\u001b[39m.\u001b[39m_final_estimator \u001b[39m!=\u001b[39m \u001b[39m'\u001b[39m\u001b[39mpassthrough\u001b[39m\u001b[39m'\u001b[39m:\n\u001b[0;32m    334\u001b[0m         fit_params_last_step \u001b[39m=\u001b[39m fit_params_steps[\u001b[39mself\u001b[39m\u001b[39m.\u001b[39msteps[\u001b[39m-\u001b[39m\u001b[39m1\u001b[39m][\u001b[39m0\u001b[39m]]\n\u001b[1;32m--> 335\u001b[0m         \u001b[39mself\u001b[39m\u001b[39m.\u001b[39m_final_estimator\u001b[39m.\u001b[39mfit(Xt, y, \u001b[39m*\u001b[39m\u001b[39m*\u001b[39mfit_params_last_step)\n\u001b[0;32m    337\u001b[0m \u001b[39mreturn\u001b[39;00m \u001b[39mself\u001b[39m\n",
      "File \u001b[1;32mc:\\Users\\HP\\anaconda3\\lib\\site-packages\\sklearn\\linear_model\\_logistic.py:1304\u001b[0m, in \u001b[0;36mLogisticRegression.fit\u001b[1;34m(self, X, y, sample_weight)\u001b[0m\n\u001b[0;32m   1275\u001b[0m \u001b[39mdef\u001b[39;00m \u001b[39mfit\u001b[39m(\u001b[39mself\u001b[39m, X, y, sample_weight\u001b[39m=\u001b[39m\u001b[39mNone\u001b[39;00m):\n\u001b[0;32m   1276\u001b[0m \u001b[39m    \u001b[39m\u001b[39m\"\"\"\u001b[39;00m\n\u001b[0;32m   1277\u001b[0m \u001b[39m    Fit the model according to the given training data.\u001b[39;00m\n\u001b[0;32m   1278\u001b[0m \n\u001b[1;32m   (...)\u001b[0m\n\u001b[0;32m   1302\u001b[0m \u001b[39m    The SAGA solver supports both float64 and float32 bit arrays.\u001b[39;00m\n\u001b[0;32m   1303\u001b[0m \u001b[39m    \"\"\"\u001b[39;00m\n\u001b[1;32m-> 1304\u001b[0m     solver \u001b[39m=\u001b[39m _check_solver(\u001b[39mself\u001b[39;49m\u001b[39m.\u001b[39;49msolver, \u001b[39mself\u001b[39;49m\u001b[39m.\u001b[39;49mpenalty, \u001b[39mself\u001b[39;49m\u001b[39m.\u001b[39;49mdual)\n\u001b[0;32m   1306\u001b[0m     \u001b[39mif\u001b[39;00m \u001b[39mnot\u001b[39;00m \u001b[39misinstance\u001b[39m(\u001b[39mself\u001b[39m\u001b[39m.\u001b[39mC, numbers\u001b[39m.\u001b[39mNumber) \u001b[39mor\u001b[39;00m \u001b[39mself\u001b[39m\u001b[39m.\u001b[39mC \u001b[39m<\u001b[39m \u001b[39m0\u001b[39m:\n\u001b[0;32m   1307\u001b[0m         \u001b[39mraise\u001b[39;00m \u001b[39mValueError\u001b[39;00m(\u001b[39m\"\u001b[39m\u001b[39mPenalty term must be positive; got (C=\u001b[39m\u001b[39m%r\u001b[39;00m\u001b[39m)\u001b[39m\u001b[39m\"\u001b[39m\n\u001b[0;32m   1308\u001b[0m                          \u001b[39m%\u001b[39m \u001b[39mself\u001b[39m\u001b[39m.\u001b[39mC)\n",
      "File \u001b[1;32mc:\\Users\\HP\\anaconda3\\lib\\site-packages\\sklearn\\linear_model\\_logistic.py:442\u001b[0m, in \u001b[0;36m_check_solver\u001b[1;34m(solver, penalty, dual)\u001b[0m\n\u001b[0;32m    438\u001b[0m     \u001b[39mraise\u001b[39;00m \u001b[39mValueError\u001b[39;00m(\u001b[39m\"\u001b[39m\u001b[39mLogistic Regression supports only penalties in \u001b[39m\u001b[39m%s\u001b[39;00m\u001b[39m,\u001b[39m\u001b[39m\"\u001b[39m\n\u001b[0;32m    439\u001b[0m                      \u001b[39m\"\u001b[39m\u001b[39m got \u001b[39m\u001b[39m%s\u001b[39;00m\u001b[39m.\u001b[39m\u001b[39m\"\u001b[39m \u001b[39m%\u001b[39m (all_penalties, penalty))\n\u001b[0;32m    441\u001b[0m \u001b[39mif\u001b[39;00m solver \u001b[39mnot\u001b[39;00m \u001b[39min\u001b[39;00m [\u001b[39m'\u001b[39m\u001b[39mliblinear\u001b[39m\u001b[39m'\u001b[39m, \u001b[39m'\u001b[39m\u001b[39msaga\u001b[39m\u001b[39m'\u001b[39m] \u001b[39mand\u001b[39;00m penalty \u001b[39mnot\u001b[39;00m \u001b[39min\u001b[39;00m (\u001b[39m'\u001b[39m\u001b[39ml2\u001b[39m\u001b[39m'\u001b[39m, \u001b[39m'\u001b[39m\u001b[39mnone\u001b[39m\u001b[39m'\u001b[39m):\n\u001b[1;32m--> 442\u001b[0m     \u001b[39mraise\u001b[39;00m \u001b[39mValueError\u001b[39;00m(\u001b[39m\"\u001b[39m\u001b[39mSolver \u001b[39m\u001b[39m%s\u001b[39;00m\u001b[39m supports only \u001b[39m\u001b[39m'\u001b[39m\u001b[39ml2\u001b[39m\u001b[39m'\u001b[39m\u001b[39m or \u001b[39m\u001b[39m'\u001b[39m\u001b[39mnone\u001b[39m\u001b[39m'\u001b[39m\u001b[39m penalties, \u001b[39m\u001b[39m\"\u001b[39m\n\u001b[0;32m    443\u001b[0m                      \u001b[39m\"\u001b[39m\u001b[39mgot \u001b[39m\u001b[39m%s\u001b[39;00m\u001b[39m penalty.\u001b[39m\u001b[39m\"\u001b[39m \u001b[39m%\u001b[39m (solver, penalty))\n\u001b[0;32m    444\u001b[0m \u001b[39mif\u001b[39;00m solver \u001b[39m!=\u001b[39m \u001b[39m'\u001b[39m\u001b[39mliblinear\u001b[39m\u001b[39m'\u001b[39m \u001b[39mand\u001b[39;00m dual:\n\u001b[0;32m    445\u001b[0m     \u001b[39mraise\u001b[39;00m \u001b[39mValueError\u001b[39;00m(\u001b[39m\"\u001b[39m\u001b[39mSolver \u001b[39m\u001b[39m%s\u001b[39;00m\u001b[39m supports only \u001b[39m\u001b[39m\"\u001b[39m\n\u001b[0;32m    446\u001b[0m                      \u001b[39m\"\u001b[39m\u001b[39mdual=False, got dual=\u001b[39m\u001b[39m%s\u001b[39;00m\u001b[39m\"\u001b[39m \u001b[39m%\u001b[39m (solver, dual))\n",
      "\u001b[1;31mValueError\u001b[0m: Solver newton-cg supports only 'l2' or 'none' penalties, got l1 penalty."
     ]
    }
   ],
   "source": [
    "# final basic LR model\n",
    "x, y = build_xy(basic_features, \"basic\")\n",
    "lr_model = linear_model.LogisticRegression()\n",
    "scaler = preprocessing.MinMaxScaler()\n",
    "pipe = pipeline.Pipeline(steps = [('scaler', scaler), ('log_reg', lr_model)])\n",
    "param_grid = {\n",
    "    'log_reg__penalty': ['l1', 'l2', 'elasticnet', 'none'],\n",
    "    'log_reg__solver': ['newton-cg', 'lbfgs', 'liblinear', 'sag', 'saga'],\n",
    "    'log_reg__C': [0.25, 0.5, 0.75, 1, 3, 5, 10, 25, 50]\n",
    "}\n",
    "model = model_selection.GridSearchCV(pipe, param_grid, cv = 5)\n",
    "model.fit(x, y['primary'])\n",
    "print (\"***LR Best Parameters***\")\n",
    "print (model.best_params_)"
   ]
  },
  {
   "cell_type": "code",
   "execution_count": null,
   "id": "willing-stephen",
   "metadata": {},
   "outputs": [],
   "source": [
    "# final engineered LR model\n",
    "x, y = build_xy(eng_features, \"eng\")\n",
    "lr_model = linear_model.LogisticRegression()\n",
    "scaler = preprocessing.MinMaxScaler()\n",
    "pipe = pipeline.Pipeline(steps = [('scaler', scaler), ('log_reg', lr_model)])\n",
    "param_grid = {\n",
    "    'log_reg__penalty': ['l1', 'l2', 'elasticnet', 'none'],\n",
    "    'log_reg__solver': ['newton-cg', 'lbfgs', 'liblinear', 'sag', 'saga'],\n",
    "    'log_reg__C': [0.25, 0.5, 0.75, 1, 3, 5, 10, 25, 50]\n",
    "}\n",
    "model = model_selection.GridSearchCV(pipe, param_grid, cv = 5)\n",
    "model.fit(x, y['primary'])\n",
    "print (\"***LR Best Parameters***\")\n",
    "print (model.best_params_)"
   ]
  },
  {
   "cell_type": "code",
   "execution_count": null,
   "id": "nonprofit-perspective",
   "metadata": {},
   "outputs": [],
   "source": [
    "# final transformed and engineered LR model\n",
    "x, y = build_xy(eng_features, \"eng\")\n",
    "lr_model = linear_model.LogisticRegression()\n",
    "scaler = preprocessing.MinMaxScaler()\n",
    "pca = decomposition.PCA(n_components = 0.95, svd_solver = \"full\")\n",
    "pipe = pipeline.Pipeline(steps = [('scaler', scaler), ('pca', pca), ('log_reg', lr_model)])\n",
    "param_grid = {\n",
    "    'log_reg__penalty': ['l1', 'l2', 'elasticnet', 'none'],\n",
    "    'log_reg__solver': ['newton-cg', 'lbfgs', 'liblinear', 'sag', 'saga'],\n",
    "    'log_reg__C': [0.25, 0.5, 0.75, 1, 3, 5, 10, 25, 50]\n",
    "}\n",
    "model = model_selection.GridSearchCV(pipe, param_grid, cv = 5)\n",
    "model.fit(x, y['primary'])\n",
    "print (\"***LR Best Parameters***\")\n",
    "print (model.best_params_)"
   ]
  },
  {
   "cell_type": "code",
   "execution_count": 12,
   "id": "domestic-retrieval",
   "metadata": {},
   "outputs": [
    {
     "name": "stdout",
     "output_type": "stream",
     "text": [
      "Average accuracy: 0.37\n"
     ]
    }
   ],
   "source": [
    "# K Nearest Neighbor with basic features\n",
    "x, y = build_xy(basic_features, \"basic\")\n",
    "knn_model = neighbors.KNeighborsClassifier()\n",
    "scaler = preprocessing.MinMaxScaler()\n",
    "pipe = pipeline.Pipeline(steps = [('scaler', scaler), ('knn', knn_model)])\n",
    "param_grid = {\n",
    "    'knn__n_neighbors': [1, 3, 5, 7, 9, 11, 13, 15],\n",
    "    'knn__weights': ['uniform', 'distance'],\n",
    "    'knn__metric': ['euclidean', 'manhattan', 'chebyshev', 'minkowski', 'wminkowski', 'seuclidean', 'mahalanobis'],\n",
    "}\n",
    "model = model_selection.GridSearchCV(pipe, param_grid, cv = 5)\n",
    "accuracies = model_selection.cross_val_score(model, x, y['primary'], cv = 5)\n",
    "print(\"Average accuracy:\", np.mean(accuracies))"
   ]
  },
  {
   "cell_type": "code",
   "execution_count": null,
   "id": "structured-truth",
   "metadata": {},
   "outputs": [],
   "source": [
    "# K Nearest Neighbor with engineered features\n",
    "x, y = build_xy(eng_features, \"eng\")\n",
    "knn_model = neighbors.KNeighborsClassifier()\n",
    "scaler = preprocessing.MinMaxScaler()\n",
    "pipe = pipeline.Pipeline(steps = [('scaler', scaler), ('knn', knn_model)])\n",
    "param_grid = {\n",
    "    'knn__n_neighbors': [1, 3, 5, 7, 9, 11, 13, 15],\n",
    "    'knn__weights': ['uniform', 'distance'],\n",
    "    'knn__metric': ['euclidean', 'manhattan', 'chebyshev', 'minkowski', 'wminkowski', 'seuclidean', 'mahalanobis'],\n",
    "}\n",
    "model = model_selection.GridSearchCV(pipe, param_grid, cv = 5)\n",
    "accuracies = model_selection.cross_val_score(model, x, y['primary'], cv = 5)\n",
    "print(\"Average accuracy:\", np.mean(accuracies))"
   ]
  },
  {
   "cell_type": "code",
   "execution_count": null,
   "id": "silent-booking",
   "metadata": {},
   "outputs": [],
   "source": [
    "# K Nearest Neighbor with PCA transformed engineered features\n",
    "x, y = build_xy(eng_features, \"eng\")\n",
    "knn_model = neighbors.KNeighborsClassifier()\n",
    "scaler = preprocessing.MinMaxScaler()\n",
    "pca = decomposition.PCA(n_components = 0.95, svd_solver = \"full\")\n",
    "pipe = pipeline.Pipeline(steps = [('scaler', scaler), ('pca', pca), ('knn', knn_model)])\n",
    "param_grid = {\n",
    "    'knn__n_neighbors': [1, 3, 5, 7, 9, 11, 13, 15],\n",
    "    'knn__weights': ['uniform', 'distance'],\n",
    "    'knn__metric': ['euclidean', 'manhattan', 'chebyshev', 'minkowski', 'wminkowski', 'seuclidean', 'mahalanobis'],\n",
    "}\n",
    "model = model_selection.GridSearchCV(pipe, param_grid, cv = 5)\n",
    "accuracies = model_selection.cross_val_score(model, x, y['primary'], cv = 5)\n",
    "print(\"Average accuracy:\", np.mean(accuracies))"
   ]
  },
  {
   "cell_type": "code",
   "execution_count": null,
   "id": "historic-surface",
   "metadata": {},
   "outputs": [],
   "source": [
    "# final basic KNN model\n",
    "x, y = build_xy(basic_features, \"basic\")\n",
    "knn_model = neighbors.KNeighborsClassifier()\n",
    "scaler = preprocessing.MinMaxScaler()\n",
    "pipe = pipeline.Pipeline(steps = [('scaler', scaler), ('knn', knn_model)])\n",
    "param_grid = {\n",
    "    'knn__n_neighbors': [1, 3, 5, 7, 9, 11, 13, 15],\n",
    "    'knn__weights': ['uniform', 'distance'],\n",
    "    'knn__metric': ['euclidean', 'manhattan', 'chebyshev', 'minkowski', 'wminkowski', 'seuclidean', 'mahalanobis'],\n",
    "}\n",
    "model = model_selection.GridSearchCV(pipe, param_grid, cv = 5)\n",
    "model.fit(x, y['primary'])\n",
    "print (\"***KNN Best Parameters***\")\n",
    "print (model.best_params_)"
   ]
  },
  {
   "cell_type": "code",
   "execution_count": null,
   "id": "disciplinary-vegetation",
   "metadata": {},
   "outputs": [],
   "source": [
    "# final engineered KNN model\n",
    "x, y = build_xy(eng_features, \"eng\")\n",
    "knn_model = neighbors.KNeighborsClassifier()\n",
    "scaler = preprocessing.MinMaxScaler()\n",
    "pipe = pipeline.Pipeline(steps = [('scaler', scaler), ('knn', knn_model)])\n",
    "param_grid = {\n",
    "    'knn__n_neighbors': [1, 3, 5, 7, 9, 11, 13, 15],\n",
    "    'knn__weights': ['uniform', 'distance'],\n",
    "    'knn__metric': ['euclidean', 'manhattan', 'chebyshev', 'minkowski', 'wminkowski', 'seuclidean', 'mahalanobis'],\n",
    "}\n",
    "model = model_selection.GridSearchCV(pipe, param_grid, cv = 5)\n",
    "model.fit(x, y['primary'])\n",
    "print (\"***KNN Best Parameters***\")\n",
    "print (model.best_params_)"
   ]
  },
  {
   "cell_type": "code",
   "execution_count": null,
   "id": "latest-poetry",
   "metadata": {},
   "outputs": [],
   "source": [
    "# final transformed and engineered KNN model\n",
    "x, y = build_xy(eng_features, \"eng\")\n",
    "knn_model = neighbors.KNeighborsClassifier()\n",
    "scaler = preprocessing.MinMaxScaler()\n",
    "pca = decomposition.PCA(n_components = 0.95, svd_solver = \"full\")\n",
    "pipe = pipeline.Pipeline(steps = [('scaler', scaler), ('pca', pca), ('knn', knn_model)])\n",
    "param_grid = {\n",
    "    'knn__n_neighbors': [1, 3, 5, 7, 9, 11, 13, 15],\n",
    "    'knn__weights': ['uniform', 'distance'],\n",
    "    'knn__metric': ['euclidean', 'manhattan', 'chebyshev', 'minkowski', 'wminkowski', 'seuclidean', 'mahalanobis'],\n",
    "}\n",
    "model = model_selection.GridSearchCV(pipe, param_grid, cv = 5)\n",
    "model.fit(x, y['primary'])\n",
    "print (\"***KNN Best Parameters***\")\n",
    "print (model.best_params_)"
   ]
  },
  {
   "cell_type": "code",
   "execution_count": null,
   "id": "nonprofit-juvenile",
   "metadata": {},
   "outputs": [],
   "source": [
    "# Gaussian Naive Bayes with basic features\n",
    "x, y = build_xy(basic_features, \"basic\")\n",
    "nb_model = naive_bayes.GaussianNB()\n",
    "param_grid = {\n",
    "    'var_smoothing': [0.000000001, 0.00000001, 0.0000001, 0.000001],\n",
    "}\n",
    "model = model_selection.GridSearchCV(nb_model, param_grid, cv = 5)\n",
    "accuracies = model_selection.cross_val_score(model, x, y['primary'], cv = 5)\n",
    "print(\"Average accuracy:\", np.mean(accuracies))"
   ]
  },
  {
   "cell_type": "code",
   "execution_count": null,
   "id": "double-arrest",
   "metadata": {},
   "outputs": [],
   "source": [
    "# Gaussian Naive Bayes with engineered features\n",
    "x, y = build_xy(eng_features, \"eng\")\n",
    "nb_model = naive_bayes.GaussianNB()\n",
    "param_grid = {\n",
    "    'var_smoothing': [0.000000001, 0.00000001, 0.0000001, 0.000001],\n",
    "}\n",
    "model = model_selection.GridSearchCV(nb_model, param_grid, cv = 5)\n",
    "accuracies = model_selection.cross_val_score(model, x, y['primary'], cv = 5)\n",
    "print(\"Average accuracy:\", np.mean(accuracies))"
   ]
  },
  {
   "cell_type": "code",
   "execution_count": null,
   "id": "herbal-numbers",
   "metadata": {},
   "outputs": [],
   "source": [
    "# Gaussian Naive Bayes with PCA transformed engineered features\n",
    "x, y = build_xy(eng_features, \"eng\")\n",
    "nb_model = naive_bayes.GaussianNB()\n",
    "scaler = preprocessing.MinMaxScaler()\n",
    "pca = decomposition.PCA(n_components = 0.95, svd_solver = \"full\")\n",
    "pipe = pipeline.Pipeline(steps = [('scaler', scaler), ('pca', pca), ('gnb', nb_model)])\n",
    "param_grid = {\n",
    "    'gnb__var_smoothing': [0.000000001, 0.00000001, 0.0000001, 0.000001],\n",
    "}\n",
    "model = model_selection.GridSearchCV(pipe, param_grid, cv = 5)\n",
    "accuracies = model_selection.cross_val_score(model, x, y['primary'], cv = 5)\n",
    "print(\"Average accuracy:\", np.mean(accuracies))"
   ]
  },
  {
   "cell_type": "code",
   "execution_count": null,
   "id": "mighty-works",
   "metadata": {},
   "outputs": [],
   "source": [
    "# final basic GNB model\n",
    "x, y = build_xy(basic_features, \"basic\")\n",
    "nb_model = naive_bayes.GaussianNB()\n",
    "param_grid = {\n",
    "    'var_smoothing': [0.000000001, 0.00000001, 0.0000001, 0.000001],\n",
    "}\n",
    "model = model_selection.GridSearchCV(nb_model, param_grid, cv = 5)\n",
    "model.fit(x, y['primary'])\n",
    "print (\"***GNB Best Parameters***\")\n",
    "print (model.best_params_)"
   ]
  },
  {
   "cell_type": "code",
   "execution_count": null,
   "id": "higher-picture",
   "metadata": {},
   "outputs": [],
   "source": [
    "# final engineered GNB model\n",
    "x, y = build_xy(eng_features, \"eng\")\n",
    "nb_model = naive_bayes.GaussianNB()\n",
    "param_grid = {\n",
    "    'var_smoothing': [0.000000001, 0.00000001, 0.0000001, 0.000001],\n",
    "}\n",
    "model = model_selection.GridSearchCV(nb_model, param_grid, cv = 5)\n",
    "model.fit(x, y['primary'])\n",
    "print (\"***GNB Best Parameters***\")\n",
    "print (model.best_params_)"
   ]
  },
  {
   "cell_type": "code",
   "execution_count": null,
   "id": "adjustable-graduate",
   "metadata": {},
   "outputs": [],
   "source": [
    "# final transformed and engineered GNB model\n",
    "x, y = build_xy(eng_features, \"eng\")\n",
    "nb_model = naive_bayes.GaussianNB()\n",
    "scaler = preprocessing.MinMaxScaler()\n",
    "pca = decomposition.PCA(n_components = 0.95, svd_solver = \"full\")\n",
    "pipe = pipeline.Pipeline(steps = [('scaler', scaler), ('pca', pca), ('gnb', nb_model)])\n",
    "param_grid = {\n",
    "    'gnb__var_smoothing': [0.000000001, 0.00000001, 0.0000001, 0.000001],\n",
    "}\n",
    "model = model_selection.GridSearchCV(pipe, param_grid, cv = 5)\n",
    "model.fit(x, y['primary'])\n",
    "print (\"***GNB Best Parameters***\")\n",
    "print (model.best_params_)"
   ]
  },
  {
   "cell_type": "code",
   "execution_count": null,
   "id": "valid-detective",
   "metadata": {},
   "outputs": [],
   "source": [
    "# Random Forest with basic features\n",
    "x, y = build_xy(basic_features, \"basic\")\n",
    "rf_model = ensemble.RandomForestClassifier()\n",
    "param_grid = {\n",
    "    'max_depth': [5, 10, 15, 20, 25, 50, 75, None],\n",
    "    'min_samples_leaf': [1, 2, 5, 7, 10, 12, 15],\n",
    "    'max_features': [\"sqrt\", \"log2\"]\n",
    "}\n",
    "model = model_selection.GridSearchCV(rf_model, param_grid, cv = 5)\n",
    "accuracies = model_selection.cross_val_score(model, x, y['primary'], cv = 5)\n",
    "print(\"Average accuracy:\", np.mean(accuracies))"
   ]
  },
  {
   "cell_type": "code",
   "execution_count": null,
   "id": "criminal-oklahoma",
   "metadata": {},
   "outputs": [],
   "source": [
    "# Random Forest with engineered features\n",
    "x, y = build_xy(eng_features, \"eng\")\n",
    "rf_model = ensemble.RandomForestClassifier()\n",
    "param_grid = {\n",
    "    'max_depth': [5, 10, 15, 20, 25, 50, 75, None],\n",
    "    'min_samples_leaf': [1, 2, 5, 7, 10, 12, 15],\n",
    "    'max_features': [\"sqrt\", \"log2\"]\n",
    "}\n",
    "model = model_selection.GridSearchCV(rf_model, param_grid, cv = 5)\n",
    "accuracies = model_selection.cross_val_score(model, x, y['primary'], cv = 5)\n",
    "print(\"Average accuracy:\", np.mean(accuracies))"
   ]
  },
  {
   "cell_type": "code",
   "execution_count": null,
   "id": "honey-regular",
   "metadata": {},
   "outputs": [],
   "source": [
    "# Random Forest with PCA transformed engineered features\n",
    "x, y = build_xy(eng_features, \"eng\")\n",
    "rf_model = ensemble.RandomForestClassifier()\n",
    "scaler = preprocessing.MinMaxScaler()\n",
    "pca = decomposition.PCA(n_components = 0.95, svd_solver = \"full\")\n",
    "pipe = pipeline.Pipeline(steps = [('scaler', scaler), ('pca', pca), ('forest', rf_model)])\n",
    "param_grid = {\n",
    "    'forest__max_depth': [5, 10, 15, 20, 25, 50, 75, None],\n",
    "    'forest__min_samples_leaf': [1, 2, 5, 7, 10, 12, 15],\n",
    "    'forest__max_features': [\"sqrt\", \"log2\"]\n",
    "}\n",
    "model = model_selection.GridSearchCV(pipe, param_grid, cv = 5)\n",
    "accuracies = model_selection.cross_val_score(model, x, y['primary'], cv = 5)\n",
    "print(\"Average accuracy:\", np.mean(accuracies))"
   ]
  },
  {
   "cell_type": "code",
   "execution_count": null,
   "id": "placed-demonstration",
   "metadata": {},
   "outputs": [],
   "source": [
    "# final basic RF model\n",
    "x, y = build_xy(basic_features, \"basic\")\n",
    "rf_model = ensemble.RandomForestClassifier()\n",
    "param_grid = {\n",
    "    'max_depth': [5, 10, 15, 20, 25, 50, 75, None],\n",
    "    'min_samples_leaf': [1, 2, 5, 7, 10, 12, 15],\n",
    "    'max_features': [\"sqrt\", \"log2\"]\n",
    "}\n",
    "model = model_selection.GridSearchCV(rf_model, param_grid, cv = 5)\n",
    "model.fit(x, y['primary'])\n",
    "print (\"***RF Best Parameters***\")\n",
    "print (model.best_params_)"
   ]
  },
  {
   "cell_type": "code",
   "execution_count": null,
   "id": "aquatic-bidding",
   "metadata": {},
   "outputs": [],
   "source": [
    "# final engineered RF model\n",
    "x, y = build_xy(eng_features, \"eng\")\n",
    "rf_model = ensemble.RandomForestClassifier()\n",
    "param_grid = {\n",
    "    'max_depth': [5, 10, 15, 20, 25, 50, 75, None],\n",
    "    'min_samples_leaf': [1, 2, 5, 7, 10, 12, 15],\n",
    "    'max_features': [\"sqrt\", \"log2\"]\n",
    "}\n",
    "model = model_selection.GridSearchCV(rf_model, param_grid, cv = 5)\n",
    "model.fit(x, y['primary'])\n",
    "print (\"***RF Best Parameters***\")\n",
    "print (model.best_params_)"
   ]
  },
  {
   "cell_type": "code",
   "execution_count": null,
   "id": "municipal-format",
   "metadata": {},
   "outputs": [],
   "source": [
    "# final transformed and engineered RF model\n",
    "x, y = build_xy(eng_features, \"eng\")\n",
    "rf_model = ensemble.RandomForestClassifier()\n",
    "scaler = preprocessing.MinMaxScaler()\n",
    "pca = decomposition.PCA(n_components = 0.95, svd_solver = \"full\")\n",
    "pipe = pipeline.Pipeline(steps = [('scaler', scaler), ('pca', pca), ('forest', rf_model)])\n",
    "param_grid = {\n",
    "    'forest__max_depth': [5, 10, 15, 20, 25, 50, 75, None],\n",
    "    'forest__min_samples_leaf': [1, 2, 5, 7, 10, 12, 15],\n",
    "    'forest__max_features': [\"sqrt\", \"log2\"]\n",
    "}\n",
    "model = model_selection.GridSearchCV(pipe, param_grid, cv = 5)\n",
    "model.fit(x, y['primary'])\n",
    "print (\"***RF Best Parameters***\")\n",
    "print (model.best_params_)"
   ]
  },
  {
   "cell_type": "code",
   "execution_count": null,
   "id": "center-formation",
   "metadata": {},
   "outputs": [],
   "source": [
    "# Multi-Layer Perceptron with neural network features\n",
    "x, y = build_xy(combined_nn, \"neural_net\")\n",
    "mlp_model = neural_network.MLPClassifier()\n",
    "scaler = preprocessing.MinMaxScaler()\n",
    "pipe = pipeline.Pipeline(steps = [('scaler', scaler), ('mlp', mlp_model)])\n",
    "param_grid = {\n",
    "    'mlp__hidden_layer_sizes': [(10,), (20,), (30,), (40,), (50,), (60,)],\n",
    "    'mlp__activation': ['logistic', 'tanh', 'relu', 'identity'],\n",
    "    'mlp__solver': ['lbfgs', 'sgd', 'adam'],\n",
    "    'mlp__alpha': [0.00001, 0.0001, 0.001, 0.01, 0.1],\n",
    "}\n",
    "model = model_selection.GridSearchCV(pipe, param_grid, cv = 5)\n",
    "accuracies = model_selection.cross_val_score(model, x, y['primary'], cv = 5)\n",
    "print(\"Average accuracy:\", np.mean(accuracies))"
   ]
  },
  {
   "cell_type": "code",
   "execution_count": null,
   "id": "abandoned-blind",
   "metadata": {},
   "outputs": [],
   "source": [
    "# final MLP model with neural network features\n",
    "x, y = build_xy(combined_nn, \"neural_net\")\n",
    "mlp_model = neural_network.MLPClassifier()\n",
    "scaler = preprocessing.MinMaxScaler()\n",
    "pipe = pipeline.Pipeline(steps = [('scaler', scaler), ('mlp', mlp_model)])\n",
    "param_grid = {\n",
    "    'mlp__hidden_layer_sizes': [(10,), (20,), (30,), (40,), (50,), (60,)],\n",
    "    'mlp__activation': ['logistic', 'tanh', 'relu', 'identity'],\n",
    "    'mlp__solver': ['lbfgs', 'sgd', 'adam'],\n",
    "    'mlp__alpha': [0.00001, 0.0001, 0.001, 0.01, 0.1],\n",
    "}\n",
    "model = model_selection.GridSearchCV(pipe, param_grid, cv = 5)\n",
    "model.fit(x, y['primary'])\n",
    "print (\"***MLP Best Parameters***\")\n",
    "print (model.best_params_)"
   ]
  },
  {
   "cell_type": "code",
   "execution_count": null,
   "id": "another-combining",
   "metadata": {},
   "outputs": [],
   "source": [
    "# export the final MLP model\n",
    "x, y = build_xy(combined_nn, \"neural_net\")\n",
    "mlp_model = neural_network.MLPClassifier()\n",
    "scaler = preprocessing.MinMaxScaler()\n",
    "pipe = pipeline.Pipeline(steps = [('scaler', scaler), ('mlp', mlp_model)])\n",
    "param_grid = {\n",
    "    'mlp__hidden_layer_sizes': [(10,), (20,), (30,), (40,), (50,), (60,)],\n",
    "    'mlp__activation': ['logistic', 'tanh', 'relu', 'identity'],\n",
    "    'mlp__solver': ['lbfgs', 'sgd', 'adam'],\n",
    "    'mlp__alpha': [0.00001, 0.0001, 0.001, 0.01, 0.1],\n",
    "}\n",
    "model = model_selection.GridSearchCV(pipe, param_grid, cv = 5)\n",
    "model.fit(x, y['primary'])\n",
    "\n",
    "# use pickle to save the model\n",
    "final_mlp_model = model\n",
    "pickle.dump(final_mlp_model, open('mood_mlp_model.sav', 'wb'))"
   ]
  },
  {
   "cell_type": "code",
   "execution_count": null,
   "id": "included-aerospace",
   "metadata": {},
   "outputs": [],
   "source": [
    "# export the stacking model with best parameters from each individual model\n",
    "# use engineered features, which performed the best on all individual models when compared to basic features\n",
    "x, y = build_xy(eng_features, \"eng\")\n",
    "\n",
    "svc_pipe = pipeline.make_pipeline(preprocessing.MinMaxScaler(), \n",
    "                                  svm.SVC(C = 5, decision_function_shape = 'ovr', gamma = 0.1, kernel = 'sigmoid'))\n",
    "lr_pipe = pipeline.make_pipeline(preprocessing.MinMaxScaler(),\n",
    "                                 decomposition.PCA(n_components = 0.95, svd_solver = \"full\"),\n",
    "                                 linear_model.LogisticRegression(C = 0.25, penalty = 'l2', solver = 'liblinear'))\n",
    "knn_pipe = pipeline.make_pipeline(preprocessing.MinMaxScaler(),\n",
    "                                  decomposition.PCA(n_components = 0.95, svd_solver = \"full\"),\n",
    "                                  neighbors.KNeighborsClassifier(metric = 'chebyshev', n_neighbors = 9, weights = 'distance'))\n",
    "gnb_pipe = pipeline.make_pipeline(preprocessing.MinMaxScaler(),\n",
    "                                  decomposition.PCA(n_components = 0.95, svd_solver = \"full\"),\n",
    "                                  naive_bayes.GaussianNB(var_smoothing = 1e-09))\n",
    "rf_pipe = pipeline.make_pipeline(preprocessing.MinMaxScaler(),\n",
    "                                 ensemble.RandomForestClassifier(max_depth = None, max_features = 'log2', min_samples_leaf = 7))\n",
    "\n",
    "estimators = [('svc', svc_pipe),\n",
    "              ('lr', lr_pipe),\n",
    "              ('knn', knn_pipe),\n",
    "              ('gnb', gnb_pipe),\n",
    "              ('rf', rf_pipe)]\n",
    "\n",
    "stacker = ensemble.StackingClassifier(estimators = estimators, \n",
    "                                      final_estimator = linear_model.LogisticRegression(),\n",
    "                                      passthrough = True)\n",
    "stacker.fit(x, y['primary'])\n",
    "\n",
    "# use pickle to save the model\n",
    "final_stacking_model = stacker\n",
    "pickle.dump(final_stacking_model, open('mood_stacking_model.sav', 'wb'))"
   ]
  }
 ],
 "metadata": {
  "kernelspec": {
   "display_name": "Python 3",
   "language": "python",
   "name": "python3"
  },
  "language_info": {
   "codemirror_mode": {
    "name": "ipython",
    "version": 3
   },
   "file_extension": ".py",
   "mimetype": "text/x-python",
   "name": "python",
   "nbconvert_exporter": "python",
   "pygments_lexer": "ipython3",
   "version": "3.9.18"
  }
 },
 "nbformat": 4,
 "nbformat_minor": 5
}
